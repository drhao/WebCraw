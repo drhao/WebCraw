{
 "cells": [
  {
   "cell_type": "code",
   "execution_count": 1,
   "metadata": {},
   "outputs": [],
   "source": [
    "import requests\n",
    "import bs4\n",
    "\n"
   ]
  },
  {
   "cell_type": "code",
   "execution_count": 7,
   "metadata": {},
   "outputs": [],
   "source": [
    "url = \"https://movies.yahoo.com.tw/movie_intheaters.html\"\n",
    "#url = 'https://movies.yahoo.com.tw/movie_thisweek.html'\n",
    "\n",
    "r = requests.get(url)\n",
    "\n",
    "rSoup = bs4.BeautifulSoup(r.text,'lxml')\n"
   ]
  },
  {
   "cell_type": "code",
   "execution_count": 27,
   "metadata": {},
   "outputs": [
    {
     "name": "stdout",
     "output_type": "stream",
     "text": [
      "拂曉 His Lost Name 2020-07-24 https://movies.yahoo.com.tw/movietime_result.html/id=10711\n",
      "魔王的女兒 Ireesha, The Daughter of Elf-king 2020-07-24 https://movies.yahoo.com.tw/movietime_result.html/id=10730\n",
      "致命窺弒 The Rental 2020-07-24 https://movies.yahoo.com.tw/movietime_result.html/id=10753\n",
      "盧米埃：光與影的故事 Lumière! 2020-07-24 https://movies.yahoo.com.tw/movietime_result.html/id=10770\n",
      "廢宅人生 Relaxer 2020-07-24 https://movies.yahoo.com.tw/movietime_result.html/id=10771\n",
      "屍人診所 Yummy 2020-07-24 https://movies.yahoo.com.tw/movietime_result.html/id=10792\n",
      "星之彩 Color Out of Space 2020-07-24 https://movies.yahoo.com.tw/movietime_result.html/id=10793\n",
      "戀夏時光 Summerland 2020-07-24 https://movies.yahoo.com.tw/movietime_result.html/id=10797\n",
      "咒冥曲 The Sonata 2020-07-24 https://movies.yahoo.com.tw/movietime_result.html/id=10800\n",
      "詭絲 Silk 2020-07-24 https://movies.yahoo.com.tw/movietime_result.html/id=10801\n"
     ]
    }
   ],
   "source": [
    "release_info = rSoup.find_all('div', 'release_info')\n",
    "movies = []\n",
    "for info in release_info:\n",
    "    cName = info.find('div','release_movie_name').a.text.strip()\n",
    "    eName = info.find('div','en').a.text.strip()\n",
    "    release_date = info.find('div','release_movie_time').text.split('：')[1].strip()\n",
    "    release_time_url = info.find('a','btn_s_time').attrs['href']\n",
    "    print(cName, eName, release_date, release_time_url)\n",
    "    m = {\n",
    "        'cName': cName,\n",
    "        'eName': eName,\n",
    "        'release_date' : release_date,\n",
    "        'release_time_url' : release_time_url\n",
    "    }\n",
    "    movies.append(m)\n",
    "    "
   ]
  },
  {
   "cell_type": "code",
   "execution_count": 35,
   "metadata": {},
   "outputs": [
    {
     "data": {
      "text/plain": [
       "[{'cName': '拂曉',\n",
       "  'eName': 'His Lost Name',\n",
       "  'release_date': '2020-07-24',\n",
       "  'release_time_url': 'https://movies.yahoo.com.tw/movietime_result.html/id=10711'},\n",
       " {'cName': '魔王的女兒',\n",
       "  'eName': 'Ireesha, The Daughter of Elf-king',\n",
       "  'release_date': '2020-07-24',\n",
       "  'release_time_url': 'https://movies.yahoo.com.tw/movietime_result.html/id=10730'},\n",
       " {'cName': '致命窺弒',\n",
       "  'eName': 'The Rental',\n",
       "  'release_date': '2020-07-24',\n",
       "  'release_time_url': 'https://movies.yahoo.com.tw/movietime_result.html/id=10753'},\n",
       " {'cName': '盧米埃：光與影的故事',\n",
       "  'eName': 'Lumière!',\n",
       "  'release_date': '2020-07-24',\n",
       "  'release_time_url': 'https://movies.yahoo.com.tw/movietime_result.html/id=10770'},\n",
       " {'cName': '廢宅人生',\n",
       "  'eName': 'Relaxer',\n",
       "  'release_date': '2020-07-24',\n",
       "  'release_time_url': 'https://movies.yahoo.com.tw/movietime_result.html/id=10771'},\n",
       " {'cName': '屍人診所',\n",
       "  'eName': 'Yummy',\n",
       "  'release_date': '2020-07-24',\n",
       "  'release_time_url': 'https://movies.yahoo.com.tw/movietime_result.html/id=10792'},\n",
       " {'cName': '星之彩',\n",
       "  'eName': 'Color Out of Space',\n",
       "  'release_date': '2020-07-24',\n",
       "  'release_time_url': 'https://movies.yahoo.com.tw/movietime_result.html/id=10793'},\n",
       " {'cName': '戀夏時光',\n",
       "  'eName': 'Summerland',\n",
       "  'release_date': '2020-07-24',\n",
       "  'release_time_url': 'https://movies.yahoo.com.tw/movietime_result.html/id=10797'},\n",
       " {'cName': '咒冥曲',\n",
       "  'eName': 'The Sonata',\n",
       "  'release_date': '2020-07-24',\n",
       "  'release_time_url': 'https://movies.yahoo.com.tw/movietime_result.html/id=10800'},\n",
       " {'cName': '詭絲',\n",
       "  'eName': 'Silk',\n",
       "  'release_date': '2020-07-24',\n",
       "  'release_time_url': 'https://movies.yahoo.com.tw/movietime_result.html/id=10801'}]"
      ]
     },
     "execution_count": 35,
     "metadata": {},
     "output_type": "execute_result"
    }
   ],
   "source": [
    "movies[]"
   ]
  },
  {
   "cell_type": "code",
   "execution_count": 43,
   "metadata": {},
   "outputs": [
    {
     "ename": "TypeError",
     "evalue": "dict expected at most 1 arguments, got 2",
     "output_type": "error",
     "traceback": [
      "\u001b[0;31m---------------------------------------------------------------------------\u001b[0m",
      "\u001b[0;31mTypeError\u001b[0m                                 Traceback (most recent call last)",
      "\u001b[0;32m<ipython-input-43-f4477d61f3f8>\u001b[0m in \u001b[0;36m<module>\u001b[0;34m\u001b[0m\n\u001b[0;32m----> 1\u001b[0;31m \u001b[0mdict\u001b[0m\u001b[0;34m(\u001b[0m\u001b[0mcName\u001b[0m\u001b[0;34m,\u001b[0m\u001b[0mrelease_time_url\u001b[0m\u001b[0;34m)\u001b[0m\u001b[0;34m\u001b[0m\u001b[0;34m\u001b[0m\u001b[0m\n\u001b[0m",
      "\u001b[0;31mTypeError\u001b[0m: dict expected at most 1 arguments, got 2"
     ]
    }
   ],
   "source": [
    "dict(cName,release_time_url)"
   ]
  },
  {
   "cell_type": "code",
   "execution_count": 42,
   "metadata": {},
   "outputs": [],
   "source": [
    "?dict"
   ]
  },
  {
   "cell_type": "code",
   "execution_count": 39,
   "metadata": {},
   "outputs": [],
   "source": [
    "?zip"
   ]
  },
  {
   "cell_type": "code",
   "execution_count": null,
   "metadata": {},
   "outputs": [],
   "source": []
  }
 ],
 "metadata": {
  "kernelspec": {
   "display_name": "Python 3",
   "language": "python",
   "name": "python3"
  },
  "language_info": {
   "codemirror_mode": {
    "name": "ipython",
    "version": 3
   },
   "file_extension": ".py",
   "mimetype": "text/x-python",
   "name": "python",
   "nbconvert_exporter": "python",
   "pygments_lexer": "ipython3",
   "version": "3.7.3"
  }
 },
 "nbformat": 4,
 "nbformat_minor": 2
}
