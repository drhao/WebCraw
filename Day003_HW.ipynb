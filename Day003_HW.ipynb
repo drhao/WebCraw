{
 "cells": [
  {
   "cell_type": "markdown",
   "metadata": {},
   "source": [
    "# Python 下載XML檔案與解析\n",
    "\n",
    "\n",
    "* 了解 xml 檔案格式與內容\n",
    "* 能夠利用套件存取 xml 格式的檔案\n"
   ]
  },
  {
   "cell_type": "markdown",
   "metadata": {},
   "source": [
    "## 作業目標\n",
    "\n",
    "* 比較一下範例檔案中的「File I/O」與「xmltodict」讀出來的內容有什麼差異\n",
    "\n",
    "* 根據範例檔案的結果：\n",
    "    1. 請問高雄市有多少地區有溫度資料？\n",
    "    2. 請取出每一個地區所記錄的第一個時間點跟溫度\n",
    "    3. 請取出第一個地區所記錄的每一個時間點跟溫度"
   ]
  },
  {
   "cell_type": "markdown",
   "metadata": {},
   "source": [
    "### 比較一下範例檔案中的「File I/O」與「xmltodict」讀出來的內容有什麼差異\n"
   ]
  },
  {
   "cell_type": "code",
   "execution_count": 3,
   "metadata": {},
   "outputs": [
    {
     "name": "stdout",
     "output_type": "stream",
     "text": [
      "<?xml version=\"1.0\" encoding=\"UTF-8\"?>\n",
      "<CUPOY>\n",
      "    <Title>爬蟲馬拉松</Title>\n",
      "    <Author>Wei</Author>\n",
      "    <Chapters>\n",
      "        <Chapter name=\"01\">資料來源與存取</Chapter>\n",
      "        <Chapter name=\"02\">靜態網頁爬蟲</Chapter>\n",
      "        <Chapter name=\"03\">動態網頁爬蟲</Chapter>\n",
      "    </Chapters>\n",
      "</CUPOY>\n"
     ]
    }
   ],
   "source": [
    "with open('./sample.xml', encoding=\"utf8\") as fd:\n",
    "    doc = fd.read()\n",
    "    print(doc)"
   ]
  },
  {
   "cell_type": "code",
   "execution_count": 6,
   "metadata": {},
   "outputs": [
    {
     "name": "stdout",
     "output_type": "stream",
     "text": [
      "爬蟲馬拉松\n",
      "01 資料來源與存取\n",
      "02 靜態網頁爬蟲\n",
      "03 動態網頁爬蟲\n"
     ]
    }
   ],
   "source": [
    "import xmltodict\n",
    "\n",
    "# 存取檔案\n",
    "\n",
    "with open('./sample.xml', encoding=\"utf8\") as fd:\n",
    "    doc = dict(xmltodict.parse(fd.read()))\n",
    "\n",
    "# 存取我們的資訊\n",
    "print(doc['CUPOY']['Title'])\n",
    "\n",
    "# 用迴圈存取我們的資訊\n",
    "chapters = doc['CUPOY']['Chapters']['Chapter']\n",
    "for chapter in chapters:\n",
    "    print (chapter['@name'], chapter['#text'])"
   ]
  },
  {
   "cell_type": "markdown",
   "metadata": {},
   "source": [
    "### 根據範例檔案的結果：\n",
    "\n",
    "1. 請問高雄市有多少地區有溫度資料？\n",
    "2. 請取出每一個地區所記錄的第一個時間點跟溫度\n",
    "3. 請取出第一個地區所記錄的每一個時間點跟溫度"
   ]
  },
  {
   "cell_type": "code",
   "execution_count": 7,
   "metadata": {},
   "outputs": [
    {
     "name": "stdout",
     "output_type": "stream",
     "text": [
      "09007_72hr_CH.xml\n",
      "09007_72hr_EN.xml\n",
      "09007_Week24_CH.xml\n",
      "09007_Week24_EN.xml\n",
      "09007_Weekday_CH.xml\n",
      "09007_Weekday_EN.xml\n",
      "09020_72hr_CH.xml\n",
      "09020_72hr_EN.xml\n",
      "09020_Week24_CH.xml\n",
      "09020_Week24_EN.xml\n",
      "09020_Weekday_CH.xml\n",
      "09020_Weekday_EN.xml\n",
      "10002_72hr_CH.xml\n",
      "10002_72hr_EN.xml\n",
      "10002_Week24_CH.xml\n",
      "10002_Week24_EN.xml\n",
      "10002_Weekday_CH.xml\n",
      "10002_Weekday_EN.xml\n",
      "10004_72hr_CH.xml\n",
      "10004_72hr_EN.xml\n",
      "10004_Week24_CH.xml\n",
      "10004_Week24_EN.xml\n",
      "10004_Weekday_CH.xml\n",
      "10004_Weekday_EN.xml\n",
      "10005_72hr_CH.xml\n",
      "10005_72hr_EN.xml\n",
      "10005_Week24_CH.xml\n",
      "10005_Week24_EN.xml\n",
      "10005_Weekday_CH.xml\n",
      "10005_Weekday_EN.xml\n",
      "10007_72hr_CH.xml\n",
      "10007_72hr_EN.xml\n",
      "10007_Week24_CH.xml\n",
      "10007_Week24_EN.xml\n",
      "10007_Weekday_CH.xml\n",
      "10007_Weekday_EN.xml\n",
      "10008_72hr_CH.xml\n",
      "10008_72hr_EN.xml\n",
      "10008_Week24_CH.xml\n",
      "10008_Week24_EN.xml\n",
      "10008_Weekday_CH.xml\n",
      "10008_Weekday_EN.xml\n",
      "10009_72hr_CH.xml\n",
      "10009_72hr_EN.xml\n",
      "10009_Week24_CH.xml\n",
      "10009_Week24_EN.xml\n",
      "10009_Weekday_CH.xml\n",
      "10009_Weekday_EN.xml\n",
      "10010_72hr_CH.xml\n",
      "10010_72hr_EN.xml\n",
      "10010_Week24_CH.xml\n",
      "10010_Week24_EN.xml\n",
      "10010_Weekday_CH.xml\n",
      "10010_Weekday_EN.xml\n",
      "10013_72hr_CH.xml\n",
      "10013_72hr_EN.xml\n",
      "10013_Week24_CH.xml\n",
      "10013_Week24_EN.xml\n",
      "10013_Weekday_CH.xml\n",
      "10013_Weekday_EN.xml\n",
      "10014_72hr_CH.xml\n",
      "10014_72hr_EN.xml\n",
      "10014_Week24_CH.xml\n",
      "10014_Week24_EN.xml\n",
      "10014_Weekday_CH.xml\n",
      "10014_Weekday_EN.xml\n",
      "10015_72hr_CH.xml\n",
      "10015_72hr_EN.xml\n",
      "10015_Week24_CH.xml\n",
      "10015_Week24_EN.xml\n",
      "10015_Weekday_CH.xml\n",
      "10015_Weekday_EN.xml\n",
      "10016_72hr_CH.xml\n",
      "10016_72hr_EN.xml\n",
      "10016_Week24_CH.xml\n",
      "10016_Week24_EN.xml\n",
      "10016_Weekday_CH.xml\n",
      "10016_Weekday_EN.xml\n",
      "10017_72hr_CH.xml\n",
      "10017_72hr_EN.xml\n",
      "10017_Week24_CH.xml\n",
      "10017_Week24_EN.xml\n",
      "10017_Weekday_CH.xml\n",
      "10017_Weekday_EN.xml\n",
      "10018_72hr_CH.xml\n",
      "10018_72hr_EN.xml\n",
      "10018_Week24_CH.xml\n",
      "10018_Week24_EN.xml\n",
      "10018_Weekday_CH.xml\n",
      "10018_Weekday_EN.xml\n",
      "10020_72hr_CH.xml\n",
      "10020_72hr_EN.xml\n",
      "10020_Week24_CH.xml\n",
      "10020_Week24_EN.xml\n",
      "10020_Weekday_CH.xml\n",
      "10020_Weekday_EN.xml\n",
      "63_72hr_CH.xml\n",
      "63_72hr_EN.xml\n",
      "63_Week24_CH.xml\n",
      "63_Week24_EN.xml\n",
      "63_Weekday_CH.xml\n",
      "63_Weekday_EN.xml\n",
      "64_72hr_CH.xml\n",
      "64_72hr_EN.xml\n",
      "64_Week24_CH.xml\n",
      "64_Week24_EN.xml\n",
      "64_Weekday_CH.xml\n",
      "64_Weekday_EN.xml\n",
      "65_72hr_CH.xml\n",
      "65_72hr_EN.xml\n",
      "65_Week24_CH.xml\n",
      "65_Week24_EN.xml\n",
      "65_Weekday_CH.xml\n",
      "65_Weekday_EN.xml\n",
      "66_72hr_CH.xml\n",
      "66_72hr_EN.xml\n",
      "66_Week24_CH.xml\n",
      "66_Week24_EN.xml\n",
      "66_Weekday_CH.xml\n",
      "66_Weekday_EN.xml\n",
      "67_72hr_CH.xml\n",
      "67_72hr_EN.xml\n",
      "67_Week24_CH.xml\n",
      "67_Week24_EN.xml\n",
      "67_Weekday_CH.xml\n",
      "67_Weekday_EN.xml\n",
      "68_72hr_CH.xml\n",
      "68_72hr_EN.xml\n",
      "68_Week24_CH.xml\n",
      "68_Week24_EN.xml\n",
      "68_Weekday_CH.xml\n",
      "68_Weekday_EN.xml\n",
      "TAIWAN_72hr_CH.xml\n",
      "TAIWAN_72hr_EN.xml\n",
      "TAIWAN_Week24_CH.xml\n",
      "TAIWAN_Week24_EN.xml\n",
      "TAIWAN_Weekday_CH.xml\n",
      "TAIWAN_Weekday_EN.xml\n",
      "__MACOSX\n"
     ]
    }
   ],
   "source": [
    "import os, sys\n",
    "\n",
    "# 打開文件（預設位置會是跟 .ipynb 程式相同的目錄）\n",
    "dirs = os.listdir( './Example' )\n",
    "\n",
    "# 顯示所有文件\n",
    "for file in dirs:\n",
    "    print(file)"
   ]
  },
  {
   "cell_type": "code",
   "execution_count": 13,
   "metadata": {},
   "outputs": [
    {
     "name": "stdout",
     "output_type": "stream",
     "text": [
      "連江縣 09007\n",
      "金門縣 09020\n",
      "宜蘭縣 10002\n",
      "新竹縣 10004\n",
      "苗栗縣 10005\n",
      "彰化縣 10007\n",
      "南投縣 10008\n",
      "雲林縣 10009\n",
      "嘉義縣 10010\n",
      "屏東縣 10013\n",
      "臺東縣 10014\n",
      "花蓮縣 10015\n",
      "澎湖縣 10016\n",
      "基隆市 10017\n",
      "新竹市 10018\n",
      "嘉義市 10020\n",
      "臺北市 63\n",
      "高雄市 64\n",
      "新北市 65\n",
      "臺中市 66\n",
      "臺南市 67\n",
      "桃園市 68\n"
     ]
    }
   ],
   "source": [
    "# 1. 請問高雄市有多少地區有溫度資料？\n",
    "with open('./example/TAIWAN_72hr_CH.xml', 'r', newline='', encoding='utf-8') as f:\n",
    "  doc = xmltodict.parse(f.read())\n",
    "  data = doc['cwbopendata']['dataset']['locations']['location']\n",
    "  for i in range(len(data)):\n",
    "      print(data[i]['locationName'], data[i]['geocode'])"
   ]
  },
  {
   "cell_type": "code",
   "execution_count": 66,
   "metadata": {
    "scrolled": false
   },
   "outputs": [
    {
     "name": "stdout",
     "output_type": "stream",
     "text": [
      "[('鹽埕區', '2019-06-28T12:00:00+08:00', '33'), ('鼓山區', '2019-06-28T12:00:00+08:00', '33'), ('左營區', '2019-06-28T12:00:00+08:00', '33'), ('楠梓區', '2019-06-28T12:00:00+08:00', '34'), ('三民區', '2019-06-28T12:00:00+08:00', '32'), ('新興區', '2019-06-28T12:00:00+08:00', '33'), ('前金區', '2019-06-28T12:00:00+08:00', '33'), ('苓雅區', '2019-06-28T12:00:00+08:00', '33'), ('前鎮區', '2019-06-28T12:00:00+08:00', '33'), ('旗津區', '2019-06-28T12:00:00+08:00', '32'), ('小港區', '2019-06-28T12:00:00+08:00', '33'), ('鳳山區', '2019-06-28T12:00:00+08:00', '34'), ('林園區', '2019-06-28T12:00:00+08:00', '33'), ('大寮區', '2019-06-28T12:00:00+08:00', '34'), ('大樹區', '2019-06-28T12:00:00+08:00', '34'), ('大社區', '2019-06-28T12:00:00+08:00', '34'), ('仁武區', '2019-06-28T12:00:00+08:00', '33'), ('鳥松區', '2019-06-28T12:00:00+08:00', '34'), ('岡山區', '2019-06-28T12:00:00+08:00', '34'), ('橋頭區', '2019-06-28T12:00:00+08:00', '35'), ('燕巢區', '2019-06-28T12:00:00+08:00', '34'), ('田寮區', '2019-06-28T12:00:00+08:00', '34'), ('阿蓮區', '2019-06-28T12:00:00+08:00', '34'), ('路竹區', '2019-06-28T12:00:00+08:00', '33'), ('湖內區', '2019-06-28T12:00:00+08:00', '33'), ('茄萣區', '2019-06-28T12:00:00+08:00', '33'), ('永安區', '2019-06-28T12:00:00+08:00', '32'), ('彌陀區', '2019-06-28T12:00:00+08:00', '32'), ('梓官區', '2019-06-28T12:00:00+08:00', '32'), ('旗山區', '2019-06-28T12:00:00+08:00', '34'), ('美濃區', '2019-06-28T12:00:00+08:00', '34'), ('六龜區', '2019-06-28T12:00:00+08:00', '34'), ('甲仙區', '2019-06-28T12:00:00+08:00', '33'), ('杉林區', '2019-06-28T12:00:00+08:00', '36'), ('內門區', '2019-06-28T12:00:00+08:00', '34'), ('茂林區', '2019-06-28T12:00:00+08:00', '34'), ('桃源區', '2019-06-28T12:00:00+08:00', '31'), ('那瑪夏區', '2019-06-28T12:00:00+08:00', '29')]\n"
     ]
    }
   ],
   "source": [
    "with open('./example/64_72hr_CH.xml', 'r', newline='', encoding='utf-8') as f:\n",
    "    doc = xmltodict.parse(f.read())\n",
    "    data = doc['cwbopendata']['dataset']['locations']['location']\n",
    "    #print(data['measures' == '攝氏度' ])\n",
    "    data_temp = []\n",
    "    count = 0\n",
    "    for i in range(len(data)):\n",
    "        #data_temp = data[i]['weatherElement']['description'== '溫度']\n",
    "        area = data[i]['locationName']\n",
    "        temp = data[i]['weatherElement']['description'== '溫度']['time'][0]['elementValue']['value']\n",
    "        time = data[i]['weatherElement']['description'== '溫度']['time'][0]['dataTime']\n",
    "        #print(data[i]['locationName'], )\n",
    "        data_temp.append((area,time,temp))\n",
    "        count = count+1\n",
    "    print(count)\n",
    "    #print(data[1]['weatherElement']['description'== '溫度'])"
   ]
  },
  {
   "cell_type": "code",
   "execution_count": null,
   "metadata": {},
   "outputs": [],
   "source": [
    "# 2. 請取出每一個地區所記錄的第一個時間點跟溫度\n",
    "with open('./example/64_72hr_CH.xml', 'r', newline='', encoding='utf-8') as f:\n",
    "    doc = xmltodict.parse(f.read())\n",
    "    data = doc['cwbopendata']['dataset']['locations']['location']\n",
    "    #print(data['measures' == '攝氏度' ])\n",
    "    data_temp = []\n",
    "    count = 0\n",
    "    for i in range(len(data)):\n",
    "        #data_temp = data[i]['weatherElement']['description'== '溫度']\n",
    "        area = data[i]['locationName']\n",
    "        temp = data[i]['weatherElement']['description'== '溫度']['time'][0]['elementValue']['value']\n",
    "        time = data[i]['weatherElement']['description'== '溫度']['time'][0]['dataTime']\n",
    "        #print(data[i]['locationName'], )\n",
    "        data_temp.append((area,time,temp))\n",
    "        count = count+1\n",
    "    print(data_temp)\n",
    "    #print(data[1]['weatherElement']['description'== '溫度'])"
   ]
  },
  {
   "cell_type": "code",
   "execution_count": 67,
   "metadata": {},
   "outputs": [
    {
     "name": "stdout",
     "output_type": "stream",
     "text": [
      "[('鹽埕區', '2019-06-28T12:00:00+08:00', '33'), ('鹽埕區', '2019-06-28T15:00:00+08:00', '33'), ('鹽埕區', '2019-06-28T18:00:00+08:00', '32'), ('鹽埕區', '2019-06-28T21:00:00+08:00', '30'), ('鹽埕區', '2019-06-29T00:00:00+08:00', '30')]\n"
     ]
    }
   ],
   "source": [
    "# 3. 請取出第一個地區所記錄的每一個時間點跟溫度\n",
    "with open('./example/64_72hr_CH.xml', 'r', newline='', encoding='utf-8') as f:\n",
    "    doc = xmltodict.parse(f.read())\n",
    "    data = doc['cwbopendata']['dataset']['locations']['location'][0]\n",
    "    #print(data['measures' == '攝氏度' ])\n",
    "    data_temp = []\n",
    "    count = 0\n",
    "    for i in range(len(data)):\n",
    "        #data_temp = data[i]['weatherElement']['description'== '溫度']\n",
    "        area = data['locationName']\n",
    "        temp = data['weatherElement']['description'== '溫度']['time'][i]['elementValue']['value']\n",
    "        time = data['weatherElement']['description'== '溫度']['time'][i]['dataTime']\n",
    "        #print(data[i]['locationName'], )\n",
    "        data_temp.append((area,time,temp))\n",
    "        count = count+1\n",
    "    print(data_temp)"
   ]
  },
  {
   "cell_type": "code",
   "execution_count": null,
   "metadata": {},
   "outputs": [],
   "source": []
  }
 ],
 "metadata": {
  "kernelspec": {
   "display_name": "Python 3",
   "language": "python",
   "name": "python3"
  },
  "language_info": {
   "codemirror_mode": {
    "name": "ipython",
    "version": 3
   },
   "file_extension": ".py",
   "mimetype": "text/x-python",
   "name": "python",
   "nbconvert_exporter": "python",
   "pygments_lexer": "ipython3",
   "version": "3.7.3"
  }
 },
 "nbformat": 4,
 "nbformat_minor": 2
}
